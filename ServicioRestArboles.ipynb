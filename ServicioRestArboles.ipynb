{
  "nbformat": 4,
  "nbformat_minor": 0,
  "metadata": {
    "colab": {
      "provenance": []
    },
    "kernelspec": {
      "name": "python3",
      "display_name": "Python 3"
    },
    "language_info": {
      "name": "python"
    }
  },
  "cells": [
    {
      "cell_type": "code",
      "execution_count": null,
      "metadata": {
        "id": "uMLiFWxgWlcw"
      },
      "outputs": [],
      "source": [
        "import json\n",
        "import requests #Hacer peticiones a APIS\n",
        "from shapely.geometry  import shape, mapping\n"
      ]
    },
    {
      "cell_type": "code",
      "source": [
        "from google.colab import drive\n",
        "drive.mount('/content/drive')"
      ],
      "metadata": {
        "id": "UteMeI6HICmw"
      },
      "execution_count": null,
      "outputs": []
    },
    {
      "cell_type": "code",
      "source": [
        "with open ('/content/boundingbox.geojson', 'r', encoding='utf-8') as archivo:\n",
        "  miJSON = json.load(archivo)"
      ],
      "metadata": {
        "id": "97UKZRHDX0ru"
      },
      "execution_count": null,
      "outputs": []
    },
    {
      "cell_type": "code",
      "source": [
        "miGeometria = miJSON['features'][0]['geometry']\n",
        "miPoligono = shape(miGeometria) #Convertir info del geojson en una geometria\n",
        "miPoligono"
      ],
      "metadata": {
        "id": "trLFcxegaNyA"
      },
      "execution_count": null,
      "outputs": []
    },
    {
      "cell_type": "code",
      "source": [
        "xmin, ymin, xmax, ymax = miPoligono.bounds"
      ],
      "metadata": {
        "id": "OzJxN9t0aRkH"
      },
      "execution_count": null,
      "outputs": []
    },
    {
      "cell_type": "code",
      "source": [
        "#Contruir consulta para conectar a la API\n",
        "url = \"https://geoportal.jbb.gov.co/agc/rest/services/SIGAU/CensoArbol/MapServer/0/query\"\n",
        "parametros = {\n",
        "    \"f\":\"json\",\n",
        "    \"geometry\":f\"{xmin}, {ymin}, {xmax}, {ymax}\",\n",
        "    \"geometryType\":\"esriGeometryEnvelope\",\n",
        "    \"spatialRel\": \"esriSpatialRelIntersects\",\n",
        "    \"where\":\"1=1\",\n",
        "    \"outFields\":\"*\"\n",
        "}"
      ],
      "metadata": {
        "id": "AZusQ9E-ahrf"
      },
      "execution_count": null,
      "outputs": []
    },
    {
      "cell_type": "code",
      "source": [
        "respuesta = requests.get(url, parametros)"
      ],
      "metadata": {
        "id": "Qo5yut-5cu-Q"
      },
      "execution_count": null,
      "outputs": []
    },
    {
      "cell_type": "code",
      "source": [
        "if respuesta.status_code==200:          #Codigo 200 es que todo salió perfecto\n",
        "  with open ('arboles.geojson', 'w', encoding='utf-8') as archivo:\n",
        "    archivo.write(respuesta.text)\n",
        "else:\n",
        "  print (\"Todo se derrumbó\")"
      ],
      "metadata": {
        "id": "KQsn0pYndKAf"
      },
      "execution_count": null,
      "outputs": []
    },
    {
      "cell_type": "code",
      "source": [
        "import geopandas as gpd\n",
        "\n",
        "geo1 = gpd.read_file(\"/content/drive/MyDrive/arboles.geojson\")\n",
        "geo2 = gpd.read_file(\"/content/drive/MyDrive/kennedy.geojson\")\n",
        "\n",
        "geo2=geo2.to_crs(geo1.crs)\n",
        "\n",
        "arboles = geo1[geo1.intersects(geo2.union_all())]\n",
        "arboles.to_file(\"arboles_kennedy.geojson\", driver=\"GeoJSON\")"
      ],
      "metadata": {
        "id": "ZbsN4y4tfQW_"
      },
      "execution_count": null,
      "outputs": []
    }
  ]
}