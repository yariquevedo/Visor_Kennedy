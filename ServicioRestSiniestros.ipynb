{
  "nbformat": 4,
  "nbformat_minor": 0,
  "metadata": {
    "colab": {
      "provenance": []
    },
    "kernelspec": {
      "name": "python3",
      "display_name": "Python 3"
    },
    "language_info": {
      "name": "python"
    }
  },
  "cells": [
    {
      "cell_type": "code",
      "execution_count": 10,
      "metadata": {
        "id": "uMLiFWxgWlcw"
      },
      "outputs": [],
      "source": [
        "import json\n",
        "import requests #Hacer peticiones a APIS\n",
        "from shapely.geometry  import shape, mapping\n"
      ]
    },
    {
      "cell_type": "code",
      "source": [
        "from google.colab import drive\n",
        "drive.mount('/content/drive')"
      ],
      "metadata": {
        "id": "UteMeI6HICmw",
        "colab": {
          "base_uri": "https://localhost:8080/"
        },
        "outputId": "8c0751ae-8fdf-4e74-8d68-d55ebfb22f0b"
      },
      "execution_count": 11,
      "outputs": [
        {
          "output_type": "stream",
          "name": "stdout",
          "text": [
            "Drive already mounted at /content/drive; to attempt to forcibly remount, call drive.mount(\"/content/drive\", force_remount=True).\n"
          ]
        }
      ]
    },
    {
      "cell_type": "code",
      "source": [
        "with open ('/content/drive/MyDrive/boundingbox.geojson', 'r', encoding='utf-8') as archivo:\n",
        "  miJSON = json.load(archivo)"
      ],
      "metadata": {
        "id": "97UKZRHDX0ru"
      },
      "execution_count": 12,
      "outputs": []
    },
    {
      "cell_type": "code",
      "source": [
        "miGeometria = miJSON['features'][0]['geometry']\n",
        "miPoligono = shape(miGeometria) #Convertir info del geojson en una geometria\n",
        "miPoligono"
      ],
      "metadata": {
        "id": "trLFcxegaNyA",
        "colab": {
          "base_uri": "https://localhost:8080/",
          "height": 121
        },
        "outputId": "df25d635-757d-4ab9-d03a-11a2902f7fea"
      },
      "execution_count": 13,
      "outputs": [
        {
          "output_type": "execute_result",
          "data": {
            "text/plain": [
              "<POLYGON ((-74.155 4.615, -74.155 4.619, -74.162 4.619, -74.162 4.615, -74.1...>"
            ],
            "image/svg+xml": "<svg xmlns=\"http://www.w3.org/2000/svg\" xmlns:xlink=\"http://www.w3.org/1999/xlink\" width=\"100.0\" height=\"100.0\" viewBox=\"-74.16263504939889 4.614892578060448 0.007871077181533792 0.004446937848074484\" preserveAspectRatio=\"xMinYMin meet\"><g transform=\"matrix(1,0,0,-1,0,9.23423209396897)\"><path fill-rule=\"evenodd\" fill=\"#66cc99\" stroke=\"#555555\" stroke-width=\"0.00015742154363067583\" opacity=\"0.6\" d=\"M -74.15505549359445,4.615184099437542 L -74.15505549359445,4.619047994531428 L -74.1623435280218,4.619047994531428 L -74.1623435280218,4.615184099437542 L -74.15505549359445,4.615184099437542 z\" /></g></svg>"
          },
          "metadata": {},
          "execution_count": 13
        }
      ]
    },
    {
      "cell_type": "code",
      "source": [
        "xmin, ymin, xmax, ymax = miPoligono.bounds"
      ],
      "metadata": {
        "id": "OzJxN9t0aRkH"
      },
      "execution_count": 14,
      "outputs": []
    },
    {
      "cell_type": "code",
      "source": [
        "#Contruir consulta para conectar a la API\n",
        "url = \"https://services2.arcgis.com/NEwhEo9GGSHXcRXV/arcgis/rest/services/HistoricoSiniestros/FeatureServer/0/query\"\n",
        "parametros = {\n",
        "    \"f\":\"json\",\n",
        "    \"geometry\":f\"{xmin}, {ymin}, {xmax}, {ymax}\",\n",
        "    \"geometryType\":\"esriGeometryEnvelope\",\n",
        "    \"spatialRel\": \"esriSpatialRelIntersects\",\n",
        "    \"where\":\"1=1\",\n",
        "    \"outFields\":\"*\"\n",
        "}"
      ],
      "metadata": {
        "id": "AZusQ9E-ahrf"
      },
      "execution_count": 15,
      "outputs": []
    },
    {
      "cell_type": "code",
      "source": [
        "respuesta = requests.get(url, parametros)"
      ],
      "metadata": {
        "id": "Qo5yut-5cu-Q"
      },
      "execution_count": 16,
      "outputs": []
    },
    {
      "cell_type": "code",
      "source": [
        "if respuesta.status_code==200:          #Codigo 200 es que todo salió perfecto\n",
        "  with open ('arboles.geojson', 'w', encoding='utf-8') as archivo:\n",
        "    archivo.write(respuesta.text)\n",
        "else:\n",
        "  print (\"Todo se derrumbó\")"
      ],
      "metadata": {
        "id": "KQsn0pYndKAf"
      },
      "execution_count": 17,
      "outputs": []
    },
    {
      "cell_type": "code",
      "source": [
        "import geopandas as gpd\n",
        "\n",
        "geo1 = gpd.read_file(\"/content/drive/MyDrive/historico_siniestros_bogota_d.c.geojson\")\n",
        "geo2 = gpd.read_file(\"/content/drive/MyDrive/kennedy.geojson\")\n",
        "\n",
        "geo2=geo2.to_crs(geo1.crs)\n",
        "\n",
        "arboles = geo1[geo1.intersects(geo2.union_all())]\n",
        "arboles.to_file(\"siniestros_kennedy.geojson\", driver=\"GeoJSON\")"
      ],
      "metadata": {
        "id": "ZbsN4y4tfQW_"
      },
      "execution_count": 18,
      "outputs": []
    }
  ]
}